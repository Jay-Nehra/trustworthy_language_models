{
  "nbformat": 4,
  "nbformat_minor": 0,
  "metadata": {
    "colab": {
      "provenance": [],
      "authorship_tag": "ABX9TyNrnOX/GPMdhB92CVTd/5D7",
      "include_colab_link": true
    },
    "kernelspec": {
      "name": "python3",
      "display_name": "Python 3"
    },
    "language_info": {
      "name": "python"
    }
  },
  "cells": [
    {
      "cell_type": "markdown",
      "metadata": {
        "id": "view-in-github",
        "colab_type": "text"
      },
      "source": [
        "<a href=\"https://colab.research.google.com/github/Jay-Nehra/trustworthy_language_models/blob/main/tml_low_quality_data_samples.ipynb\" target=\"_parent\"><img src=\"https://colab.research.google.com/assets/colab-badge.svg\" alt=\"Open In Colab\"/></a>"
      ]
    },
    {
      "cell_type": "code",
      "source": [
        "%pip install --upgrade cleanlab-studio"
      ],
      "metadata": {
        "id": "-vAsJ5mfXl9W"
      },
      "execution_count": null,
      "outputs": []
    },
    {
      "cell_type": "code",
      "source": [
        "!pip install datasets"
      ],
      "metadata": {
        "id": "tKxAVNylYlHm"
      },
      "execution_count": null,
      "outputs": []
    },
    {
      "cell_type": "markdown",
      "source": [
        "\n",
        "# Use Case: Identify low-quality responses in the Dolly dataset **bold text**"
      ],
      "metadata": {
        "id": "K_VP_ksIzSQS"
      }
    },
    {
      "cell_type": "code",
      "execution_count": 5,
      "metadata": {
        "colab": {
          "base_uri": "https://localhost:8080/"
        },
        "id": "GpL8d541XR-W",
        "outputId": "572a8ddd-034b-48d0-c702-8050d961770f"
      },
      "outputs": [
        {
          "output_type": "stream",
          "name": "stdout",
          "text": [
            "Dataset loaded successfully. Here are the first few rows:\n",
            "                                         instruction  \\\n",
            "0         When did Virgin Australia start operating?   \n",
            "1           Which is a species of fish? Tope or Rope   \n",
            "2     Why can camels survive for long without water?   \n",
            "3  Alice's parents have three daughters: Amy, Jes...   \n",
            "4                    When was Tomoaki Komorida born?   \n",
            "\n",
            "                                             context  \\\n",
            "0  Virgin Australia, the trading name of Virgin A...   \n",
            "1                                                      \n",
            "2                                                      \n",
            "3                                                      \n",
            "4  Komorida was born in Kumamoto Prefecture on Ju...   \n",
            "\n",
            "                                            response        category  \n",
            "0  Virgin Australia commenced services on 31 Augu...       closed_qa  \n",
            "1                                               Tope  classification  \n",
            "2  Camels use the fat in their humps to keep them...         open_qa  \n",
            "3            The name of the third daughter is Alice         open_qa  \n",
            "4         Tomoaki Komorida was born on July 10,1981.       closed_qa  \n"
          ]
        }
      ],
      "source": [
        "import pandas as pd\n",
        "from cleanlab_studio import Studio\n",
        "\n",
        "from datasets import load_dataset\n",
        "\n",
        "# Initialize the Studio with your Cleanlab API key\n",
        "studio = Studio(\"<API Key>\")\n",
        "\n",
        "dataset = load_dataset('databricks/databricks-dolly-15k', split='train')\n",
        "df = pd.DataFrame(dataset)\n",
        "\n",
        "print(\"Dataset loaded successfully. Here are the first few rows:\")\n",
        "print(df.head())\n"
      ]
    },
    {
      "cell_type": "code",
      "source": [
        "# Initialize the TLM instance\n",
        "tlm = studio.TLM()\n",
        "\n",
        "df = df.head(10)\n",
        "df.to_csv('dataset.csv', index=False)\n",
        "prompts = df['instruction'].tolist()\n",
        "human_responses = df['response'].tolist()\n",
        "\n",
        "results = df.copy(deep=True)\n",
        "\n",
        "# Use batched TLM prompt calls for efficiency\n",
        "outputs = tlm.prompt(prompts)\n",
        "results[['tlm_response', 'trustworthiness_score']] = pd.DataFrame(outputs)\n",
        "results.to_csv('tlm_results.csv', index=False)\n",
        "print(\"TLM responses and trustworthiness scores:\")\n",
        "print(results[['instruction', 'response', 'tlm_response', 'trustworthiness_score']].head())\n"
      ],
      "metadata": {
        "colab": {
          "base_uri": "https://localhost:8080/"
        },
        "id": "gFHgRSwLXdtm",
        "outputId": "352cb903-e597-41e3-db51-ec283db00f50"
      },
      "execution_count": 18,
      "outputs": [
        {
          "output_type": "stream",
          "name": "stderr",
          "text": [
            "Querying TLM... 100%|██████████|"
          ]
        },
        {
          "output_type": "stream",
          "name": "stdout",
          "text": [
            "TLM responses and trustworthiness scores:\n",
            "                                         instruction  \\\n",
            "0         When did Virgin Australia start operating?   \n",
            "1           Which is a species of fish? Tope or Rope   \n",
            "2     Why can camels survive for long without water?   \n",
            "3  Alice's parents have three daughters: Amy, Jes...   \n",
            "4                    When was Tomoaki Komorida born?   \n",
            "\n",
            "                                            response  \\\n",
            "0  Virgin Australia commenced services on 31 Augu...   \n",
            "1                                               Tope   \n",
            "2  Camels use the fat in their humps to keep them...   \n",
            "3            The name of the third daughter is Alice   \n",
            "4         Tomoaki Komorida was born on July 10,1981.   \n",
            "\n",
            "                                        tlm_response  trustworthiness_score  \n",
            "0  Virgin Australia started operating on August 3...               0.866139  \n",
            "1  Tope is a species of fish. It is also known as...               0.872518  \n",
            "2  Camels have several adaptations that allow the...               0.847047  \n",
            "3           The name of the third daughter is Alice.               0.946198  \n",
            "4  I'm sorry, but I couldn't find any information...               0.821744  \n"
          ]
        },
        {
          "output_type": "stream",
          "name": "stderr",
          "text": [
            "\n"
          ]
        }
      ]
    },
    {
      "cell_type": "code",
      "source": [
        "\n",
        "# Sort results by trustworthiness score to identify least trustworthy responses\n",
        "low_trustworthiness_responses = results.sort_values(by='trustworthiness_score').head()\n",
        "print(\"Responses with the lowest trustworthiness scores:\")\n",
        "print(low_trustworthiness_responses[['instruction', 'response', 'tlm_response', 'trustworthiness_score']])\n",
        "low_trustworthiness_responses.to_csv('low_trustworthiness_responses.csv', index=False)"
      ],
      "metadata": {
        "colab": {
          "base_uri": "https://localhost:8080/"
        },
        "id": "uJpqqx0UXgoP",
        "outputId": "456ad6c3-9cbc-4173-b5a3-9e06b5ef941f"
      },
      "execution_count": 16,
      "outputs": [
        {
          "output_type": "stream",
          "name": "stdout",
          "text": [
            "Responses with the lowest trustworthiness scores:\n",
            "                                         instruction  \\\n",
            "7   Who gave the UN the land in NY to build their HQ   \n",
            "4                    When was Tomoaki Komorida born?   \n",
            "6  Given a reference text about Lollapalooza, whe...   \n",
            "8                        Why mobile is bad for human   \n",
            "2     Why can camels survive for long without water?   \n",
            "\n",
            "                                            response  \\\n",
            "7                                John D Rockerfeller   \n",
            "4         Tomoaki Komorida was born on July 10,1981.   \n",
            "6  Lollapalooze is an annual musical festival hel...   \n",
            "8  We are always engaged one phone which is not g...   \n",
            "2  Camels use the fat in their humps to keep them...   \n",
            "\n",
            "                                        tlm_response  trustworthiness_score  \n",
            "7  The land for the United Nations Headquarters i...               0.685942  \n",
            "4  I'm sorry, but I couldn't find any information...               0.821744  \n",
            "6  Lollapalooza is an annual music festival that ...               0.826862  \n",
            "8  While mobile devices have undoubtedly revoluti...               0.828086  \n",
            "2  Camels have several adaptations that allow the...               0.847047  \n"
          ]
        }
      ]
    },
    {
      "cell_type": "code",
      "source": [
        "\n",
        "# Sort results by trustworthiness score to identify most trustworthy responses\n",
        "high_trustworthiness_responses = results.sort_values(by='trustworthiness_score', ascending=False).head()\n",
        "print(\"Responses with the highest trustworthiness scores:\")\n",
        "print(high_trustworthiness_responses[['instruction', 'response', 'tlm_response', 'trustworthiness_score']])\n",
        "high_trustworthiness_responses.to_csv('high_trustworthiness_responses.csv', index=False)"
      ],
      "metadata": {
        "colab": {
          "base_uri": "https://localhost:8080/"
        },
        "id": "aoUCbTuqXh7t",
        "outputId": "66a74f39-cb2f-41d4-a6ab-f36dc68cace1"
      },
      "execution_count": 17,
      "outputs": [
        {
          "output_type": "stream",
          "name": "stdout",
          "text": [
            "Responses with the highest trustworthiness scores:\n",
            "                                         instruction  \\\n",
            "3  Alice's parents have three daughters: Amy, Jes...   \n",
            "1           Which is a species of fish? Tope or Rope   \n",
            "9                       Who was John Moses Browning?   \n",
            "0         When did Virgin Australia start operating?   \n",
            "5  If I have more pieces at the time of stalemate...   \n",
            "\n",
            "                                            response  \\\n",
            "3            The name of the third daughter is Alice   \n",
            "1                                               Tope   \n",
            "9  John Moses Browning is one of the most well-kn...   \n",
            "0  Virgin Australia commenced services on 31 Augu...   \n",
            "5  No. \\nStalemate is a drawn position. It doesn'...   \n",
            "\n",
            "                                        tlm_response  trustworthiness_score  \n",
            "3           The name of the third daughter is Alice.               0.946198  \n",
            "1  Tope is a species of fish. It is also known as...               0.872518  \n",
            "9  John Moses Browning was an American firearms d...               0.871875  \n",
            "0  Virgin Australia started operating on August 3...               0.866139  \n",
            "5  No, if a game ends in a stalemate, it is consi...               0.863919  \n"
          ]
        }
      ]
    },
    {
      "cell_type": "code",
      "source": [],
      "metadata": {
        "id": "toxygPVza9dw"
      },
      "execution_count": null,
      "outputs": []
    }
  ]
}